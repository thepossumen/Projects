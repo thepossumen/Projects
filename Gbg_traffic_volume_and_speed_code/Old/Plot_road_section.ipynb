{
 "cells": [
  {
   "cell_type": "code",
   "execution_count": null,
   "metadata": {},
   "outputs": [],
   "source": []
  },
  {
   "cell_type": "code",
   "execution_count": null,
   "metadata": {},
   "outputs": [],
   "source": [
    "# Hämtad från:\n",
    "# https://cartographyvectors.com/map/1521-sweden-with-regions\n",
    "# Välj format GeoJSON\n",
    "#sweden_map = gpd.read_file('C:/Users/David/Documents/Anteckningar/Project in Data Science/Data/sweden-with-regions_.geojson')"
   ]
  },
  {
   "cell_type": "code",
   "execution_count": 18,
   "metadata": {},
   "outputs": [
    {
     "data": {
      "text/plain": [
       "(2521943, 8)"
      ]
     },
     "execution_count": 18,
     "metadata": {},
     "output_type": "execute_result"
    }
   ],
   "source": [
    "import geopandas as gpd\n",
    "import pandas as pd\n",
    "from shapely import wkt\n",
    "import matplotlib.pyplot as plt\n",
    "from pyproj import CRS\n",
    "\n",
    "# Load your CSV data and create a GeoDataFrame\n",
    "df = pd.read_csv('Data/gbg_trajectories_2019_crossing.csv') #, nrows=10000\n",
    "# filtered_df['geometry'] = filtered_df['line'].apply(lambda x: wkt.loads(x))\n",
    "# gdf = gpd.GeoDataFrame(filtered_df, geometry='geometry')\n",
    "\n",
    "# # Define the current CRS of your linestring data (replace 'EPSG:XXXX' with your actual CRS)\n",
    "# # If you don't know the CRS, you can use the best guess, which is likely WGS 84 (EPSG:4326)\n",
    "# source_crs = CRS.from_epsg(3006)\n",
    "\n",
    "# # Set the CRS of the GeoDataFrame to match your linestring data\n",
    "# gdf.crs = source_crs\n",
    "\n",
    "# # Define the target CRS (WGS 84)\n",
    "# target_crs = CRS.from_epsg(4326)\n",
    "\n",
    "# # Reproject the GeoDataFrame to the target CRS\n",
    "# gdf = gdf.to_crs(target_crs)\n",
    "df.shape"
   ]
  },
  {
   "cell_type": "code",
   "execution_count": 19,
   "metadata": {},
   "outputs": [
    {
     "name": "stdout",
     "output_type": "stream",
     "text": [
      "Total number of cars passing through the buffered road section: 4999\n"
     ]
    }
   ],
   "source": [
    "from shapely.wkt import loads\n",
    "from shapely.geometry import LineString\n",
    "from shapely.geometry import box\n",
    "\n",
    "#tingstadstunneln\n",
    "# start_lat = 320685\n",
    "# start_long = 6401583\n",
    "# stop_lat = 320431\n",
    "# stop_long = 6401919\n",
    "\n",
    "# E6 efter angeredsbron\n",
    "# 322169\n",
    "# 6411344\n",
    "# 322081\n",
    "# 6412907\n",
    "\n",
    "# Define the road section as a LineString (adjust coordinates as needed)\n",
    "\n",
    "# E6 efter angrered\n",
    "#road_section = LineString([(322169, 6411344), (322081, 6412907)])\n",
    "\n",
    "# Tingstadstunneln\n",
    "road_section = LineString([(320685, 6401583), (320431, 6401919)])\n",
    "\n",
    "\n",
    "\n",
    "\n",
    "# Convert the road_section to a Shapely LineString object\n",
    "road_section_line = road_section\n",
    "\n",
    "# Define the buffer distance (adjust as needed)\n",
    "buffer_distance = 10.0  # Adjust the buffer distance as needed (in the same units as your coordinates)\n",
    "\n",
    "# Create a buffered polygon around the road section\n",
    "buffered_road_section = road_section.buffer(buffer_distance)\n",
    "\n",
    "def count_cars_passing(trajectory, buffered_road_section):\n",
    "    try:\n",
    "        # Convert the trajectory to a Shapely LineString object\n",
    "        trajectory_line = loads(trajectory)\n",
    "        \n",
    "        # Check if the trajectory intersects the buffered road section\n",
    "        if trajectory_line.intersects(buffered_road_section):\n",
    "            return 1  # This trajectory intersects the buffered road section\n",
    "        else:\n",
    "            return 0  # This trajectory does not intersect the buffered road section\n",
    "    except:\n",
    "        pass\n",
    "\n",
    "df['passes_road_section'] = df['line'].apply(count_cars_passing, buffered_road_section=buffered_road_section)\n",
    "\n",
    "# Count the total number of cars passing through the buffered road section\n",
    "total_cars_passing = df['passes_road_section'].sum()\n",
    "print(f\"Total number of cars passing through the buffered road section: {total_cars_passing}\")\n"
   ]
  },
  {
   "cell_type": "code",
   "execution_count": 20,
   "metadata": {},
   "outputs": [],
   "source": [
    "df = df[df[\"passes_road_section\"] == 1]"
   ]
  },
  {
   "cell_type": "code",
   "execution_count": 24,
   "metadata": {},
   "outputs": [
    {
     "name": "stderr",
     "output_type": "stream",
     "text": [
      "C:\\Users\\Timze\\AppData\\Local\\Temp\\ipykernel_9504\\1415645283.py:1: FutureWarning: In a future version of pandas all arguments of StringMethods.rsplit except for the argument 'pat' will be keyword-only.\n",
      "  df['start_time'] = df['start_time'].str.rsplit('+', 1).str[0]\n"
     ]
    }
   ],
   "source": [
    "df['start_time'] = df['start_time'].str.rsplit('+', 1).str[0]\n",
    "df['start_time'] = pd.to_datetime(df['start_time']).dt.date\n"
   ]
  },
  {
   "cell_type": "code",
   "execution_count": null,
   "metadata": {},
   "outputs": [],
   "source": [
    "\n",
    "df['start_time'] = df['start_time'].apply(lambda x: pd.to_datetime(x, errors='coerce'))\n",
    "\n",
    "# Identify indices where the conversion failed\n",
    "failed_indices = []\n",
    "for idx, value in enumerate(df['start_time']):\n",
    "    if pd.isnull(value):\n",
    "        failed_indices.append(idx)"
   ]
  },
  {
   "cell_type": "code",
   "execution_count": null,
   "metadata": {},
   "outputs": [],
   "source": [
    "import numpy as np\n",
    "np.dtype(df.start_time[934])"
   ]
  },
  {
   "cell_type": "code",
   "execution_count": 35,
   "metadata": {},
   "outputs": [
    {
     "data": {
      "image/png": "[encoded data removed]",
      "text/plain": [
       "<Figure size 1200x600 with 1 Axes>"
      ]
     },
     "metadata": {},
     "output_type": "display_data"
    }
   ],
   "source": [
    "import matplotlib.pyplot as plt\n",
    "import pandas as pd\n",
    "\n",
    "# Assuming df is your DataFrame and 'start_time' column needs to be converted to datetime\n",
    "# df['start_time'] = pd.to_datetime(df['start_time'])\n",
    "\n",
    "# Drop rows with missing start_time values\n",
    "#df = df.dropna(subset=['start_time'])\n",
    "\n",
    "# Group by date and sum the passes_road_section for each date\n",
    "daily_car_count = df.groupby(df['start_time'].dt.isocalendar().day)[\"passes_road_section\"].sum()\n",
    "\n",
    "weekly_car_count = df.groupby(df['start_time'].dt.isocalendar().week)[\"passes_road_section\"].sum()\n",
    "monthly_car_count = df.groupby(df['start_time'].dt.month)[\"passes_road_section\"].sum()\n",
    "\n",
    "\n",
    "# Plot the data\n",
    "plt.figure(figsize=(12, 6))\n",
    "monthly_car_count.plot(kind='bar', color='skyblue')\n",
    "plt.xlabel('Date')\n",
    "plt.ylabel('Number of Cars')\n",
    "plt.title('Number of Cars Passing the Intersection Each Day')\n",
    "plt.xticks(rotation=90)\n",
    "plt.tight_layout()\n",
    "plt.show()\n"
   ]
  },
  {
   "cell_type": "code",
   "execution_count": null,
   "metadata": {},
   "outputs": [],
   "source": [
    "passing_car_indices = df[df['passes_road_section'] == 1].index\n",
    "\n",
    "# Print the indices\n",
    "print(\"Indices of rows with passing cars:\")\n",
    "print(passing_car_indices)"
   ]
  }
 ],
 "metadata": {
  "kernelspec": {
   "display_name": "base",
   "language": "python",
   "name": "python3"
  },
  "language_info": {
   "codemirror_mode": {
    "name": "ipython",
    "version": 3
   },
   "file_extension": ".py",
   "mimetype": "text/x-python",
   "name": "python",
   "nbconvert_exporter": "python",
   "pygments_lexer": "ipython3",
   "version": "3.11.1"
  },
  "orig_nbformat": 4
 },
 "nbformat": 4,
 "nbformat_minor": 2
}
