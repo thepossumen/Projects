{
  "cells": [
    {
      "cell_type": "code",
      "execution_count": null,
      "metadata": {
        "id": "R2yfGurpWG45"
      },
      "outputs": [],
      "source": [
        "!pip install datasets\n"
      ]
    },
    {
      "cell_type": "code",
      "execution_count": null,
      "metadata": {
        "id": "mRuEjJvJWTv9"
      },
      "outputs": [],
      "source": [
        "from datasets import load_dataset\n"
      ]
    },
    {
      "cell_type": "code",
      "execution_count": 6,
      "metadata": {
        "id": "n9QaKf3hVl15"
      },
      "outputs": [],
      "source": [
        "# load embeddings, this will be a pandas df with embeddings stored in a list\n",
        "reference_embeddings = load_dataset(\"anordkvist/gu-course-syllabus-embeddings\")\n",
        "df_embeddings = reference_embeddings['train'].to_pandas()\n",
        "course_content_embeddings = df_embeddings['Course content']\n",
        "\n",
        "print(course_content_embeddings.shape)\n",
        "course_content_embeddings.head()"
      ]
    },
    {
      "cell_type": "code",
      "execution_count": null,
      "metadata": {
        "colab": {
          "base_uri": "https://localhost:8080/"
        },
        "id": "MY9me9R-Yvs3",
        "outputId": "524b548b-1a83-4bd3-a4da-e0623bb8e6a3"
      },
      "outputs": [],
      "source": [
        "import pandas as pd\n",
        "import numpy as np\n",
        "from sklearn.manifold import TSNE\n",
        "import matplotlib.pyplot as plt\n",
        "\n",
        "# Assume 'series_embeddings' is your series of embeddings, and 'course_codes' is the series with course codes.\n",
        "# Convert the series into a numpy array\n",
        "embeddings_array = np.array(course_content_embeddings.tolist())\n",
        "\n",
        "# Initialize t-SNE\n",
        "tsne = TSNE(n_components=2, verbose=1, perplexity=40, n_iter=300)\n",
        "\n",
        "# Fit and transform with t-SNE\n",
        "tsne_results = tsne.fit_transform(embeddings_array)"
      ]
    },
    {
      "cell_type": "code",
      "execution_count": null,
      "metadata": {
        "colab": {
          "base_uri": "https://localhost:8080/",
          "height": 668
        },
        "id": "rXBDdCCFb1fK",
        "outputId": "858160df-caa9-4941-b6d9-984ce58314d5"
      },
      "outputs": [],
      "source": [
        "course_codes = df_embeddings['course_code']\n",
        "\n",
        "# Define the departments you want to highlight with the number of characters to consider\n",
        "# Specify the number of chars for each department\n",
        "code_char_mapping = {\n",
        "    'DIT': 3,\n",
        "    'NEK': 3,\n",
        "    'MM': 2,\n",
        "    'P': 1\n",
        "}\n",
        "\n",
        "# Create a color map, need to be the same amount as nr of codes\n",
        "colors = ['red', 'blue', 'green', 'purple']\n",
        "color_map = dict(zip(code_char_mapping.keys(), colors))\n",
        "\n",
        "# Function to determine color based on variable-length department codes\n",
        "def determine_color(code):\n",
        "    for char, num_chars in code_char_mapping.items():\n",
        "        if code.startswith(char):\n",
        "            return color_map[char]\n",
        "    return 'grey'  # Default color\n",
        "\n",
        "# Apply function to course codes\n",
        "point_colors = course_codes.apply(determine_color)\n",
        "\n",
        "# Plot the t-SNE results\n",
        "plt.figure(figsize=(16,10))\n",
        "scatter = plt.scatter(tsne_results[:, 0], tsne_results[:, 1], c=point_colors, alpha=0.5)\n",
        "\n",
        "# Highlight the departments\n",
        "plt.title('t-SNE visualization with multiple departments highlighted')\n",
        "plt.xlabel('Component 1')\n",
        "plt.ylabel('Component 2')\n",
        "# legend\n",
        "for dept, color in color_map.items():\n",
        "    plt.scatter([], [], color=color, label=dept)\n",
        "plt.legend()\n",
        "\n",
        "plt.show()\n"
      ]
    },
    {
      "cell_type": "code",
      "execution_count": null,
      "metadata": {
        "id": "tt7V1LqEbCtq"
      },
      "outputs": [],
      "source": []
    }
  ],
  "metadata": {
    "colab": {
      "provenance": []
    },
    "kernelspec": {
      "display_name": "Python 3",
      "name": "python3"
    },
    "language_info": {
      "codemirror_mode": {
        "name": "ipython",
        "version": 3
      },
      "file_extension": ".py",
      "mimetype": "text/x-python",
      "name": "python",
      "nbconvert_exporter": "python",
      "pygments_lexer": "ipython3",
      "version": "3.11.4"
    }
  },
  "nbformat": 4,
  "nbformat_minor": 0
}
