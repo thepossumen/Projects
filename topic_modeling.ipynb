{
 "cells": [
  {
   "cell_type": "markdown",
   "metadata": {},
   "source": [
    "### Reading the corpus data"
   ]
  },
  {
   "cell_type": "code",
   "execution_count": 1,
   "metadata": {},
   "outputs": [],
   "source": [
    "# Download or load data\n",
    "from sklearn.datasets import fetch_20newsgroups\n",
    "# corpus_news = fetch_20newsgroups(subset='all', data_home='/Data', remove=('headers', 'footers', 'quotes'))\n",
    "# corpus_train = fetch_20newsgroups(subset='train', data_home='/Data' , remove=('headers', 'footers', 'quotes'))\n",
    "# corpus_test = fetch_20newsgroups(subset='test', data_home='/Data', remove=('headers', 'footers', 'quotes'))\n",
    "\n",
    "# corpus_train = fetch_20newsgroups(subset='all', data_home='scripts/dit247-nlp/a2', remove=('headers', 'footers', 'quotes'))\n",
    "corpus_train = fetch_20newsgroups(subset='train', data_home='scripts/dit247-nlp/a2' , remove=('headers', 'footers', 'quotes'))\n",
    "# corpus_train = fetch_20newsgroups(subset='test', data_home='scripts/dit247-nlp/a2', remove=('headers', 'footers', 'quotes'))"
   ]
  },
  {
   "cell_type": "code",
   "execution_count": 2,
   "metadata": {},
   "outputs": [
    {
     "name": "stdout",
     "output_type": "stream",
     "text": [
      "\n",
      "Do you have Weitek's address/phone number?  I'd like to get some information\n",
      "about this chip.\n",
      "\n",
      "comp.graphics\n"
     ]
    }
   ],
   "source": [
    "print(corpus_train.data[3])\n",
    "print(corpus_train.target_names[corpus_train.target[3]])"
   ]
  },
  {
   "cell_type": "markdown",
   "metadata": {},
   "source": [
    "### Tokenization"
   ]
  },
  {
   "cell_type": "code",
   "execution_count": 3,
   "metadata": {},
   "outputs": [],
   "source": [
    "# Get spacy tokenizer\n",
    "import spacy\n",
    "spacy_tokenizer = spacy.load(\"en_core_web_sm\")"
   ]
  },
  {
   "cell_type": "code",
   "execution_count": 4,
   "metadata": {},
   "outputs": [],
   "source": [
    "def is_number(s):\n",
    "    \"\"\"\n",
    "    Helper function to check if string can be coerced to number.\n",
    "    \"\"\"\n",
    "    try:\n",
    "        float(s)\n",
    "        return True\n",
    "    except ValueError:\n",
    "        return False\n",
    "\n",
    "# Define tokenize function\n",
    "def tokenize(text, tokenizer=spacy_tokenizer.tokenizer, lowercase=True, remove_stopwords=True, remove_punctuation=True):\n",
    "    \"\"\"\n",
    "    Returns a list of tokens. Removes spacy defined stop words and punctuation marks.\n",
    "    \"\"\"\n",
    "    # tokens = [t.text for t in tokenizer(text) if not t.is_stop and not t.is_punct]\n",
    "    tokens = []\n",
    "    for t in tokenizer(text):\n",
    "        # Skip if stopword\n",
    "        if remove_stopwords and t.is_stop:\n",
    "            continue\n",
    "        # Skip if punctuation\n",
    "        if remove_punctuation and t.is_punct:\n",
    "            continue\n",
    "        # Skip other irrelevant tokens\n",
    "        irrel_tokens = [\"\\\\\", \"\\n\", \"\\t\", \"=\", \">\", \"<\", \"$\", \"x\", \"|\", \"/\", \"@\", \"_\"]\n",
    "        if any(it in t.text for it in irrel_tokens):\n",
    "            continue\n",
    "        if t.text.isspace() or is_number(t.text):\n",
    "            continue\n",
    "        tokens.append(t.text)\n",
    "    if lowercase:\n",
    "        tokens = [t.lower() for t in tokens] \n",
    "    return tokens"
   ]
  },
  {
   "cell_type": "code",
   "execution_count": 5,
   "metadata": {},
   "outputs": [
    {
     "data": {
      "text/plain": [
       "['weitek', 'address', 'phone', 'number', 'like', 'information', 'chip']"
      ]
     },
     "execution_count": 5,
     "metadata": {},
     "output_type": "execute_result"
    }
   ],
   "source": [
    "tokenize(corpus_train.data[3])"
   ]
  },
  {
   "cell_type": "markdown",
   "metadata": {},
   "source": [
    "### Make a vocabulary of relevant tokens"
   ]
  },
  {
   "cell_type": "code",
   "execution_count": 6,
   "metadata": {},
   "outputs": [],
   "source": [
    "from collections import Counter\n",
    "\n",
    "freqs = Counter()\n",
    "for x in corpus_train.data:\n",
    "    for t in tokenize(x):\n",
    "        freqs[t] += 1\n"
   ]
  },
  {
   "cell_type": "code",
   "execution_count": 7,
   "metadata": {},
   "outputs": [],
   "source": [
    "# Remove tokens with less than 10 occurences\n",
    "freqs = Counter({token: count for token, count in freqs.items() if count >= 25})"
   ]
  },
  {
   "cell_type": "code",
   "execution_count": 8,
   "metadata": {},
   "outputs": [
    {
     "data": {
      "text/plain": [
       "[('x', 5160),\n",
       " ('people', 4101),\n",
       " ('like', 3961),\n",
       " ('know', 3487),\n",
       " ('use', 3179),\n",
       " ('think', 3007),\n",
       " ('time', 2956),\n",
       " ('new', 2591),\n",
       " ('good', 2504),\n",
       " ('way', 2034)]"
      ]
     },
     "execution_count": 8,
     "metadata": {},
     "output_type": "execute_result"
    }
   ],
   "source": [
    "freqs.most_common(10)"
   ]
  },
  {
   "cell_type": "code",
   "execution_count": 9,
   "metadata": {},
   "outputs": [
    {
     "data": {
      "text/plain": [
       "[('ordnance', 25),\n",
       " ('anania', 25),\n",
       " ('cdi', 25),\n",
       " ('bayonet', 25),\n",
       " ('surfaces', 25),\n",
       " ('dominant', 25),\n",
       " ('sheath', 25),\n",
       " ('simtel20', 25),\n",
       " ('portland', 25),\n",
       " ('sci.astro', 25)]"
      ]
     },
     "execution_count": 9,
     "metadata": {},
     "output_type": "execute_result"
    }
   ],
   "source": [
    "# Least common\n",
    "freqs.most_common()[:-11:-1]"
   ]
  },
  {
   "cell_type": "code",
   "execution_count": 10,
   "metadata": {},
   "outputs": [
    {
     "data": {
      "text/plain": [
       "5938"
      ]
     },
     "execution_count": 10,
     "metadata": {},
     "output_type": "execute_result"
    }
   ],
   "source": [
    "# Number of unique tokens\n",
    "len(freqs)"
   ]
  },
  {
   "cell_type": "code",
   "execution_count": 11,
   "metadata": {},
   "outputs": [
    {
     "name": "stdout",
     "output_type": "stream",
     "text": [
      "total tokens = 750267\n"
     ]
    }
   ],
   "source": [
    "# Sum of token occurences in training documents\n",
    "ssum = 0\n",
    "for (_, s) in freqs.items():\n",
    "    ssum += s\n",
    "print(f\"total tokens = {ssum}\")"
   ]
  },
  {
   "cell_type": "code",
   "execution_count": 12,
   "metadata": {},
   "outputs": [
    {
     "data": {
      "text/plain": [
       "5938"
      ]
     },
     "execution_count": 12,
     "metadata": {},
     "output_type": "execute_result"
    }
   ],
   "source": [
    "# Make a vocabulary of only the relevant tokens\n",
    "# (we discard the frequencies)\n",
    "vocabulary = list(freqs.keys())\n",
    "len(vocabulary)"
   ]
  },
  {
   "cell_type": "code",
   "execution_count": 13,
   "metadata": {},
   "outputs": [],
   "source": [
    "# Make a vocabulary with mappings\n",
    "vocabulary_mappings = {}\n",
    "for word in freqs.keys():\n",
    "    vocabulary_mappings[word] = len(vocabulary_mappings)\n"
   ]
  },
  {
   "cell_type": "markdown",
   "metadata": {},
   "source": [
    "### Preprocess text data"
   ]
  },
  {
   "cell_type": "code",
   "execution_count": 14,
   "metadata": {},
   "outputs": [],
   "source": [
    "def process_text(text, vocabulary):\n",
    "    # Tokenize text\n",
    "    text_tokens = tokenize(text)\n",
    "    \n",
    "    # Keep only relevant tokens based on vocabulary\n",
    "    processed_text_tokens = [t for t in text_tokens if t in vocabulary]\n",
    "    \n",
    "    return processed_text_tokens"
   ]
  },
  {
   "cell_type": "code",
   "execution_count": 15,
   "metadata": {},
   "outputs": [
    {
     "data": {
      "text/plain": [
       "11314"
      ]
     },
     "execution_count": 15,
     "metadata": {},
     "output_type": "execute_result"
    }
   ],
   "source": [
    "# Preprocess all texts in training data\n",
    "X_train = [process_text(text, vocabulary) for text in corpus_train.data]\n",
    "len(X_train)\n"
   ]
  },
  {
   "cell_type": "code",
   "execution_count": 16,
   "metadata": {},
   "outputs": [],
   "source": [
    "# Get topic labels from training data\n",
    "Y_train = corpus_train.target\n",
    "Y_train_label = [corpus_train.target_names[index] for index in Y_train]"
   ]
  },
  {
   "cell_type": "markdown",
   "metadata": {},
   "source": [
    "### LDA"
   ]
  },
  {
   "cell_type": "markdown",
   "metadata": {},
   "source": [
    "Create a sparse document-term matrix"
   ]
  },
  {
   "cell_type": "code",
   "execution_count": 17,
   "metadata": {},
   "outputs": [],
   "source": [
    "# Create Document-Term matrix\n",
    "# where each row corresponds to a document\n",
    "# and each column corresponds to a token\n",
    "# the values are frequencies of token in document\n",
    "# note: this will be a very large and sparse matrix\n",
    "import numpy as np\n",
    "from scipy.sparse import lil_matrix\n",
    "\n",
    "# Initialize a sparse matrix with dimensions given by len(X_train) and len(vocabulary)\n",
    "doc_term_matrix = lil_matrix((len(X_train), len(vocabulary)), dtype=np.int16)\n",
    "\n",
    "# Iterate through X_train\n",
    "for i, doc in enumerate(X_train):\n",
    "    # Iterate through the tokens in the document\n",
    "    for token in doc:\n",
    "        # If the token is in your vocabulary\n",
    "        if token in vocabulary_mappings:\n",
    "            # Increment the matrix at the current document index and the token's index\n",
    "            doc_term_matrix[i, vocabulary_mappings[token]] += 1\n"
   ]
  },
  {
   "cell_type": "code",
   "execution_count": 18,
   "metadata": {},
   "outputs": [
    {
     "name": "stdout",
     "output_type": "stream",
     "text": [
      "(11314, 5938)\n"
     ]
    }
   ],
   "source": [
    "# 11,314 - number of documents\n",
    "# 11,303 - number of tokens in vocabulary\n",
    "print(doc_term_matrix.shape)\n"
   ]
  },
  {
   "cell_type": "markdown",
   "metadata": {},
   "source": [
    "Initialize LDA parameters:\n",
    "* Topic assignment for each word in each documnet (D x V = value is topic)\n",
    "* Topic distribution over each document (D x T = value is count)\n",
    "* Word distribution over each topic (T x V = value is count)\n",
    "* Count of words corresponding to each topic (T = value is count)\n",
    "\n",
    "D - number of documents  \n",
    "V - number of words in vocabulary  \n",
    "T - number of topics  "
   ]
  },
  {
   "cell_type": "code",
   "execution_count": 22,
   "metadata": {},
   "outputs": [
    {
     "name": "stdout",
     "output_type": "stream",
     "text": [
      "0/11314\n",
      "1000/11314\n",
      "2000/11314\n",
      "3000/11314\n",
      "4000/11314\n",
      "5000/11314\n",
      "6000/11314\n",
      "7000/11314\n",
      "8000/11314\n",
      "9000/11314\n",
      "10000/11314\n",
      "11000/11314\n"
     ]
    }
   ],
   "source": [
    "import numpy as np\n",
    "\n",
    "# Get the number of documents in the corpus\n",
    "num_docs = len(X_train)\n",
    "\n",
    "# Get the size of the vocabulary\n",
    "num_words = len(vocabulary)\n",
    "\n",
    "# Define the number of topics for the LDA model\n",
    "num_topics = 10\n",
    "\n",
    "# Initialize LDA parameters\n",
    "# Topic assignments for each word in each document\n",
    "topic_assignments = np.zeros((num_docs, num_words), dtype=int)\n",
    "# The topic distribution per document\n",
    "doc_topic_counts = np.zeros((num_docs, num_topics), dtype=int)\n",
    "# The word distribution per topic\n",
    "topic_word_counts = np.zeros((num_topics, num_words), dtype=int)\n",
    "# Total word counts per topic\n",
    "topic_counts = np.zeros(num_topics, dtype=int)\n",
    "\n",
    "# Randomly assign a topic to each word in each document and update the count matrices\n",
    "for d in range(num_docs):\n",
    "    if d % 1000 == 0:\n",
    "        print(f\"{d}/{num_docs}\")\n",
    "    for w in doc_term_matrix[d].nonzero()[1]:\n",
    "        # Randomly assign a topic to the current word\n",
    "        t = np.random.randint(num_topics)\n",
    "        topic_assignments[d, w] = t\n",
    "\n",
    "        # Update topic distribution per document\n",
    "        doc_topic_counts[d, t] += 1\n",
    "\n",
    "        # Update word distribution per topic\n",
    "        topic_word_counts[t, w] += 1\n",
    "\n",
    "        # Update the total count of words assigned to the current topic\n",
    "        topic_counts[t] += 1\n"
   ]
  },
  {
   "cell_type": "markdown",
   "metadata": {},
   "source": [
    "### Collapsed Gibbs sampling"
   ]
  },
  {
   "cell_type": "code",
   "execution_count": 23,
   "metadata": {},
   "outputs": [],
   "source": [
    "def collapsed_gibbs_sampling(num_docs, num_words,\n",
    "                             topic_assignments, doc_topic_counts,\n",
    "                             topic_word_counts, topic_counts,\n",
    "                             alpha=0.1, beta=0.1, num_iters=100):\n",
    "    # Perform Collapsed Gibbs Sampling\n",
    "    # Iterate over the number of specified iterations\n",
    "    for i in range(num_iters):\n",
    "        print(f\"{i}/{num_iters}\")\n",
    "        # Iterate over each document\n",
    "        for d in range(num_docs):\n",
    "            # Iterate over each word in the document\n",
    "            for w in doc_term_matrix[d].nonzero()[1]:\n",
    "                # Get the current topic assignment for the word\n",
    "                t = topic_assignments[d, w]\n",
    "                \n",
    "                # Decrement the counts for the current word and topic assignment\n",
    "                doc_topic_counts[d, t] -= 1\n",
    "                topic_word_counts[t, w] -= 1\n",
    "                topic_counts[t] -= 1\n",
    "                \n",
    "                # Calculate the conditional probability of each topic for the current word\n",
    "                # Topic distribution for this document (+ alpha)\n",
    "                # times\n",
    "                # Topic distribution for this word (+ beta)\n",
    "                # divided by\n",
    "                # Word count distribution over topics + size of vocabulary scaled by beta\n",
    "                p_t = (doc_topic_counts[d] + alpha) * (topic_word_counts[:, w] + beta) / (topic_counts + beta * num_words)\n",
    "                \n",
    "                # Sample a new topic assignment from the conditional distribution\n",
    "                t = np.random.multinomial(1, p_t / p_t.sum()).argmax()\n",
    "                \n",
    "                # Assign the new topic to the word\n",
    "                topic_assignments[d, w] = t\n",
    "                \n",
    "                # Increment the counts for the new word and topic assignment\n",
    "                doc_topic_counts[d, t] += 1\n",
    "                topic_word_counts[t, w] += 1\n",
    "                topic_counts[t] += 1\n",
    "    \n",
    "    # Return the updated topic assignments and count matrices\n",
    "    return topic_assignments, doc_topic_counts, topic_word_counts, topic_counts\n"
   ]
  },
  {
   "cell_type": "code",
   "execution_count": 24,
   "metadata": {},
   "outputs": [
    {
     "name": "stdout",
     "output_type": "stream",
     "text": [
      "0/10\n",
      "1/10\n",
      "2/10\n",
      "3/10\n",
      "4/10\n",
      "5/10\n",
      "6/10\n",
      "7/10\n",
      "8/10\n",
      "9/10\n"
     ]
    }
   ],
   "source": [
    "# gibbs_results = collapsed_gibbs_sampling(num_docs, num_words,\n",
    "#                                          topic_assignments, doc_topic_counts,\n",
    "#                                          topic_word_counts, topic_counts)\n",
    "# final_topic_assignments, final_doc_topic_counts, final_topic_word_counts, final_topic_counts = gibbs_results\n",
    "\n",
    "\n",
    "\n",
    "gibbs_results = collapsed_gibbs_sampling(num_docs, num_words,\n",
    "                                         topic_assignments, doc_topic_counts,\n",
    "                                         topic_word_counts, topic_counts, alpha=0.1, beta=0.1, num_iters=10)\n",
    "final_topic_assignments, final_doc_topic_counts, final_topic_word_counts, final_topic_counts = gibbs_results\n",
    "\n",
    "\n",
    "# np.save('final_topic_assignments.npy', final_topic_assignments)\n",
    "# np.save('final_doc_topic_counts.npy', final_doc_topic_counts)\n",
    "# np.save('final_topic_word_counts.npy', final_topic_word_counts)\n",
    "# np.save('final_topic_counts.npy', final_topic_counts)"
   ]
  },
  {
   "cell_type": "markdown",
   "metadata": {},
   "source": [
    "### analysis"
   ]
  },
  {
   "cell_type": "code",
   "execution_count": 25,
   "metadata": {},
   "outputs": [],
   "source": [
    "# final_topic_assignments = np.load('final_topic_assignments.npy')\n",
    "# final_doc_topic_counts = np.load('final_doc_topic_counts.npy')\n",
    "# final_topic_word_counts = np.load('final_topic_word_counts.npy')\n",
    "# final_topic_counts = np.load('final_topic_counts.npy')"
   ]
  },
  {
   "cell_type": "code",
   "execution_count": 26,
   "metadata": {},
   "outputs": [
    {
     "name": "stdout",
     "output_type": "stream",
     "text": [
      "--------------------------------------------------\n",
      "    RAW COUNT: ['thanks' 'use' 'know' 'like' 'help' 'program' 'problem' 'available'\n",
      " 'system' 'windows' 'mail' 'file' 'files' 'work' 'hi' 'x' 'find'\n",
      " 'software' 'appreciated' 'ftp']\n",
      "    ---\n",
      "    FREQ COUNT: ['displaying' 'copying' 'icons' 'programmers' 'workshop' 'sunos' 'dial'\n",
      " 'specified' 'mailed' 'revision' 'automated' 'ascii' 'graphical' 'edit'\n",
      " 'packard' 'loading' 'generic' 'sparc' 'athena' 'rep']\n",
      "--------------------------------------------------\n",
      "    RAW COUNT: ['people' 'think' 'way' 'know' 'right' 'god' 'believe' 'said' 'good'\n",
      " 'question' 'like' 'point' 'true' 'things' 'word' 'human' 'fact' 'course'\n",
      " 'come' 'mean']\n",
      "    ---\n",
      "    FREQ COUNT: ['hearts' 'intellectual' 'plausible' 'remind' 'reactions' 'confusion'\n",
      " 'wishes' 'screws' 'instances' 'attempting' 'beings' 'praise' 'clarify'\n",
      " 'falls' 'firmly' 'theological' 'apologize' 'nonsense' 'silence'\n",
      " 'responding']\n",
      "--------------------------------------------------\n",
      "    RAW COUNT: ['government' 'new' 'years' 'people' 'right' 'like' 'area' 'time' 'press'\n",
      " 'place' 'number' 'times' 'months' 'million' 'public' 'state' 'called'\n",
      " 'military' 'april' 'washington']\n",
      "    ---\n",
      "    FREQ COUNT: ['atrocities' 'serdar' 'escaped' 'witnessed' 'settled' 'massacred' 'argic'\n",
      " 'hired' 'participated' '10,000' 'shield' 'germans' 'carriers' 'fled'\n",
      " 'seized' 'nearby' 'edited' 'turkiye' 'anatolia' 'arf']\n",
      "--------------------------------------------------\n",
      "    RAW COUNT: ['people' 'key' 'like' 'government' 'time' 'use' 'know' 'years' 'clipper'\n",
      " 'encryption' 'public' 'chip' 'general' 'keys' 'new' 'think' 'system'\n",
      " 'sure' 'way' 'long']\n",
      "    ---\n",
      "    FREQ COUNT: ['denning' 'urban' 'escrowed' 'divided' 'laid' 'transmitted' 'dorothy'\n",
      " 'restriction' 'd.c.' 'clause' 'trusted' 'outright' 'arrive' 'corporate'\n",
      " 'assistant' 'skipjack' 'hellman' 'respectively' 'federalist' 'enormous']\n",
      "--------------------------------------------------\n",
      "    RAW COUNT: ['game' 'think' 'team' 'like' 'people' 'play' 'year' 'time' 'games' 'know'\n",
      " 'said' 'new' 'second' 'season' 'best' 'good' 'win' 'league' 'let'\n",
      " 'players']\n",
      "    ---\n",
      "    FREQ COUNT: ['champs' 'potvin' 'norris' 'smythe' 'gld' 'habs' 'blew' '6th' 'lineup'\n",
      " 'playoffs' 'overtime' 'victory' 'playoff' 'penguins' 'patrick' 'bure'\n",
      " 'plays' 'toll' 'tonight' 'bears']\n",
      "--------------------------------------------------\n",
      "    RAW COUNT: ['know' 'use' 'information' 'like' 'space' 'thanks' 'new' 'good' 'need'\n",
      " 'want' 'time' 'e' 'mail' 'seen' 'find' 'available' 'send' 'long' 'large'\n",
      " 'program']\n",
      "    ---\n",
      "    FREQ COUNT: ['altitude' 'henry' 'warm' 'jpl' 'copyrighted' 'submitted' 'ontario'\n",
      " 'gates' 'tracking' 'flying' 'orbits' 'shoulder' 'lawrence' 'orbiting'\n",
      " 'ocean' 'ring' 'thermal' 'rapid' 'operational' 'meters']\n",
      "--------------------------------------------------\n",
      "    RAW COUNT: ['like' 'know' 'use' 'need' 'good' 'help' 'time' 'want' 'thanks' 'way'\n",
      " 'problem' 'etc' 'work' 'think' 'soon' 'new' 'sure' 'better' 'actually'\n",
      " 'probably']\n",
      "    ---\n",
      "    FREQ COUNT: ['chastity' 'n3jxp' 'intellect' 'shameful' 'skepticism' 'gordon'\n",
      " 'surrender' 'neat' 'summarize' 'banks' 'replacing' 'reboot' 'transfers'\n",
      " 'comparable' 'polygons' 'wordperfect' 'dumb' 'soon' 'toyota' 'wake']\n",
      "--------------------------------------------------\n",
      "    RAW COUNT: ['thanks' 'new' 'drive' 'like' 'system' 'use' 'mail' 'sale' 'card' 'know'\n",
      " 'disk' 'need' 'software' 'computer' 'price' 'interested' 'hard' 'run'\n",
      " 'bit' 'power']\n",
      "    ---\n",
      "    FREQ COUNT: ['cassette' 'greetings' 'freeware' 'connectors' 'floppies' 'brand'\n",
      " 'vertical' 'tuned' 'roms' 'plugged' 'sale' 'chipset' 'readable'\n",
      " 'resolutions' 'configure' 'packaging' 'intergraph' 'sizes' 'manuals'\n",
      " 'cod']\n",
      "--------------------------------------------------\n",
      "    RAW COUNT: ['think' 'like' 'right' 'good' 'people' 'point' 'year' 'time' 'said'\n",
      " 'better' 'years' 'far' 'way' 'know' 'going' 'let' 'day' 'place'\n",
      " 'actually' 'state']\n",
      "    ---\n",
      "    FREQ COUNT: ['affair' 'outcome' 'pinch' 'falling' 'waited' 'pitched' 'knocked' 'jays'\n",
      " 'barry' 'hitter' 'neighborhood' 'nl' 'complaining' 'er' 'seventh'\n",
      " 'davidians' 'rockies' 'farm' 'balls' 'batting']\n",
      "--------------------------------------------------\n",
      "    RAW COUNT: ['people' 'time' 'like' 'god' 'think' 'believe' 'know' 'way' 'fact' 'good'\n",
      " 'jesus' 'thing' 'long' 'life' 'want' 'person' 'true' 'course' 'question'\n",
      " 'come']\n",
      "    ---\n",
      "    FREQ COUNT: ['meaningful' 'lesson' 'righteous' 'collective' 'practicing' 'utter'\n",
      " 'relate' 'moses' 'spiritual' 'distinction' 'arrested' 'praying'\n",
      " 'justification' 'motives' 'gospels' 'tradition' 'bother' 'revealed'\n",
      " 'accepting' 'prophets']\n"
     ]
    }
   ],
   "source": [
    "def get_most_common(n, vocabulary, topic_word_counts, tot_word_counts=None):\n",
    "    \"\"\"\n",
    "    get the n most common words in each topic\n",
    "    \"\"\"\n",
    "    vocabulary = np.array(vocabulary)\n",
    "\n",
    "    most_common_words = []\n",
    "    # iterate over all topics\n",
    "    for t in topic_word_counts:\n",
    "        \n",
    "        if tot_word_counts is not None:\n",
    "            # get the relative frequencies\n",
    "            relative_frequencies = t/tot_word_counts\n",
    "            # sort word counts in descending, get the n most common\n",
    "            top_word_indices = relative_frequencies.argsort()[::-1][:n]\n",
    "        else:\n",
    "            # sort word counts in descending, get the n most common\n",
    "            top_word_indices = t.argsort()[::-1][:n]\n",
    "\n",
    "        most_common_words.append(vocabulary[top_word_indices])\n",
    "    \n",
    "    return most_common_words\n",
    "\n",
    "\n",
    "corpus_word_counts = doc_term_matrix.sum(axis=0).A1\n",
    "\n",
    "most_common_words_raw = get_most_common(20, vocabulary, final_topic_word_counts)\n",
    "most_common_words_rel_freq = get_most_common(20, vocabulary, final_topic_word_counts, tot_word_counts=corpus_word_counts)\n",
    "\n",
    "for t_raw, t_freq in zip(most_common_words_raw, most_common_words_rel_freq):\n",
    "    \n",
    "    print(f'''{'-'*50}\n",
    "    RAW COUNT: {t_raw}\n",
    "    ---\n",
    "    FREQ COUNT: {t_freq}''')\n"
   ]
  },
  {
   "cell_type": "code",
   "execution_count": 27,
   "metadata": {},
   "outputs": [
    {
     "data": {
      "image/png": "[encoded data removed]",
      "text/plain": [
       "<Figure size 1000x500 with 1 Axes>"
      ]
     },
     "metadata": {},
     "output_type": "display_data"
    }
   ],
   "source": [
    "# barplot over nr of tokens for each topic\n",
    "import matplotlib.pyplot as plt\n",
    "\n",
    "plt.figure(figsize=(10, 5))\n",
    "x_axis = np.arange(len(final_topic_counts))#+1\n",
    "\n",
    "plt.bar(x_axis, final_topic_counts)\n",
    "plt.title('Topic sizes', fontsize=20)\n",
    "plt.xlabel('Topic', fontsize=16)\n",
    "plt.xticks(x_axis)\n",
    "plt.ylabel('Nr of tokens', fontsize=16)\n",
    "\n",
    "plt.tight_layout()\n",
    "plt.show()"
   ]
  },
  {
   "cell_type": "code",
   "execution_count": 28,
   "metadata": {},
   "outputs": [],
   "source": [
    "# get D(v, v') - co-document frequency of word types v and v', from our D(v) - document frequencies for each word (token)\n",
    "from scipy.sparse import csr_matrix, triu\n",
    "\n",
    "# binarize doc term matrix\n",
    "doc_term_matrix_binary = doc_term_matrix.copy()\n",
    "doc_term_matrix_binary[doc_term_matrix_binary > 0] = 1\n",
    "\n",
    "# sum the product of every pair of tokens frequencies, across all documents, result is a sqaure matrix\n",
    "co_freq_matrix = doc_term_matrix_binary.T.dot(doc_term_matrix_binary)\n",
    "\n",
    "# diagonal elements will be the original document frequencies, set to zero since we already have that\n",
    "co_freq_matrix.setdiag(0)\n",
    "\n",
    "# free up space\n",
    "co_freq_matrix.eliminate_zeros()\n",
    "\n",
    "# get the upper triangle since the matrix is symmetric\n",
    "upper_co_freq_matrix = triu(co_freq_matrix, k=1).tocsr()"
   ]
  },
  {
   "cell_type": "code",
   "execution_count": 29,
   "metadata": {},
   "outputs": [],
   "source": [
    "def umass(top_words, doc_freq, co_doc_freq, vocabulary):\n",
    "    \"\"\"\n",
    "    Compute the umass coherence score based on the top n words from a topic.\n",
    "    \"\"\"\n",
    "\n",
    "    coherence_score = 0\n",
    "\n",
    "    M = len(top_words)\n",
    "\n",
    "    # skip top ranked word as no other words are more probable\n",
    "    for m in range(1, M):\n",
    "        # get the m words vocabulary index\n",
    "        word_m_index = vocabulary.index(top_words[m])\n",
    "        # iterate over all words higher ranked than m\n",
    "        for l in range(m):\n",
    "            # get the l words vocabulary index\n",
    "            word_l_index = vocabulary.index(top_words[l])\n",
    "\n",
    "            # sum over the column for given token\n",
    "            doc_freq_val = doc_freq.getcol(word_l_index).nnz\n",
    "            # get co-occurence val\n",
    "            co_doc_freq_val = co_doc_freq[word_m_index, word_l_index]\n",
    "\n",
    "\n",
    "            coherence_score += np.log((co_doc_freq_val+1)/doc_freq_val)\n",
    "\n",
    "    return coherence_score\n",
    "\n",
    "# raw count\n",
    "topic_coherence_scores = [umass(t, doc_term_matrix, upper_co_freq_matrix, vocabulary) for t in most_common_words_raw]\n",
    "\n",
    "# rel.freq\n",
    "# topic_coherence_scores = [umass(t, doc_term_matrix, upper_co_freq_matrix, vocabulary) for t in most_common_words_rel_freq]"
   ]
  },
  {
   "cell_type": "code",
   "execution_count": 30,
   "metadata": {},
   "outputs": [
    {
     "data": {
      "image/png": "[encoded data removed]",
      "text/plain": [
       "<Figure size 1000x500 with 1 Axes>"
      ]
     },
     "metadata": {},
     "output_type": "display_data"
    }
   ],
   "source": [
    "plt.figure(figsize=(10, 5))\n",
    "plt.plot(x_axis, topic_coherence_scores, marker='o', linestyle='-', color='b')\n",
    "plt.title('Umass Coherence for Topic Quality', fontsize=20)\n",
    "plt.xlabel('Topic', fontsize=16)\n",
    "plt.xticks(x_axis)\n",
    "plt.ylabel('Coherence Score', fontsize=16)\n",
    "plt.grid(True)\n",
    "\n",
    "plt.tight_layout()\n",
    "plt.show()"
   ]
  },
  {
   "cell_type": "code",
   "execution_count": 31,
   "metadata": {},
   "outputs": [
    {
     "data": {
      "image/png": "[encoded data removed]",
      "text/plain": [
       "<Figure size 1000x500 with 1 Axes>"
      ]
     },
     "metadata": {},
     "output_type": "display_data"
    }
   ],
   "source": [
    "plt.figure(figsize=(10, 5))\n",
    "plt.scatter(topic_coherence_scores, final_topic_counts)\n",
    "plt.title('Coherence Score Vs Topic Size', fontsize=20)\n",
    "plt.xlabel('Coherence Score', fontsize=16)\n",
    "plt.ylabel('Topic Size', fontsize=16)\n",
    "\n",
    "plt.tight_layout()\n",
    "plt.show()"
   ]
  },
  {
   "cell_type": "code",
   "execution_count": 32,
   "metadata": {},
   "outputs": [
    {
     "name": "stdout",
     "output_type": "stream",
     "text": [
      "1 0\n",
      "2 0\n",
      "2 1\n",
      "3 0\n",
      "3 1\n",
      "3 2\n",
      "4 0\n",
      "4 1\n",
      "4 2\n",
      "4 3\n"
     ]
    }
   ],
   "source": [
    "M = 5\n",
    "\n",
    "for m in range(1, M):\n",
    "    for l in range(m):\n",
    "        print(m,l)"
   ]
  }
 ],
 "metadata": {
  "colab": {
   "collapsed_sections": [],
   "provenance": []
  },
  "kernelspec": {
   "display_name": "Python 3",
   "language": "python",
   "name": "python3"
  },
  "language_info": {
   "codemirror_mode": {
    "name": "ipython",
    "version": 3
   },
   "file_extension": ".py",
   "mimetype": "text/x-python",
   "name": "python",
   "nbconvert_exporter": "python",
   "pygments_lexer": "ipython3",
   "version": "3.11.4"
  }
 },
 "nbformat": 4,
 "nbformat_minor": 1
}
